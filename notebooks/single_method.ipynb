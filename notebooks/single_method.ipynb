{
 "cells": [
  {
   "cell_type": "code",
   "execution_count": 8,
   "metadata": {},
   "outputs": [],
   "source": [
    "from sklearn.ensemble import GradientBoostingClassifier\n",
    "from imblearn.over_sampling import SMOTE\n",
    "\n",
    "from notebooks.src.pipelines import DataPipeline\n",
    "from src.models.sklearn import SklearnModel\n",
    "from src.preprocessor import TargetType, DataType\n",
    "from xgboost import XGBClassifier"
   ]
  },
  {
   "cell_type": "code",
   "execution_count": 9,
   "metadata": {},
   "outputs": [],
   "source": [
    "data = DataPipeline()\n",
    "data(\n",
    "    add_pollution=False,\n",
    "    dropna=False,\n",
    "    to_drop=[\n",
    "        \"SEVERE ANAEMIA\",\n",
    "        \"AKI\",\n",
    "        \"ORTHOSTATIC\",\n",
    "        \"INFECTIVE ENDOCARDITIS\",\n",
    "        \"PULMONARY EMBOLISM\",\n",
    "        \"CHEST INFECTION\",\n",
    "    ],\n",
    ")"
   ]
  },
  {
   "cell_type": "code",
   "execution_count": 10,
   "metadata": {},
   "outputs": [],
   "source": [
    "train_numpy_data, test_numpy_data = data.preprocess(\n",
    "    data_type=DataType.NUMPY, train_balance=SMOTE()\n",
    ")"
   ]
  },
  {
   "cell_type": "code",
   "execution_count": 11,
   "metadata": {},
   "outputs": [],
   "source": [
    "model = SklearnModel(XGBClassifier(n_estimators=1000, n_jobs=-1))"
   ]
  },
  {
   "cell_type": "code",
   "execution_count": 12,
   "metadata": {},
   "outputs": [
    {
     "data": {
      "text/plain": [
       "<src.models.sklearn.SklearnModel at 0x76a9087eb1d0>"
      ]
     },
     "execution_count": 12,
     "metadata": {},
     "output_type": "execute_result"
    }
   ],
   "source": [
    "model.train(*train_numpy_data[0][TargetType.DEATH])"
   ]
  },
  {
   "cell_type": "code",
   "execution_count": 13,
   "metadata": {},
   "outputs": [
    {
     "data": {
      "text/plain": [
       "ClassificationMetrics(accuracy=0.9545081967213115, precision=0.7692307692307693, recall=0.6944444444444444, f1=0.7299270072992701, roc_auc_score=0.9653776978417267)"
      ]
     },
     "execution_count": 13,
     "metadata": {},
     "output_type": "execute_result"
    }
   ],
   "source": [
    "model.score(*test_numpy_data[0][TargetType.DEATH])"
   ]
  },
  {
   "cell_type": "code",
   "execution_count": 14,
   "metadata": {},
   "outputs": [
    {
     "data": {
      "text/plain": [
       "ClassificationMetrics(accuracy=1.0, precision=1.0, recall=1.0, f1=1.0, roc_auc_score=1.0)"
      ]
     },
     "execution_count": 14,
     "metadata": {},
     "output_type": "execute_result"
    }
   ],
   "source": [
    "model.score(*train_numpy_data[0][TargetType.DEATH])"
   ]
  },
  {
   "cell_type": "code",
   "execution_count": null,
   "metadata": {},
   "outputs": [],
   "source": []
  },
  {
   "cell_type": "code",
   "execution_count": null,
   "metadata": {},
   "outputs": [],
   "source": []
  }
 ],
 "metadata": {
  "kernelspec": {
   "display_name": ".venv",
   "language": "python",
   "name": "python3"
  },
  "language_info": {
   "codemirror_mode": {
    "name": "ipython",
    "version": 3
   },
   "file_extension": ".py",
   "mimetype": "text/x-python",
   "name": "python",
   "nbconvert_exporter": "python",
   "pygments_lexer": "ipython3",
   "version": "3.12.3"
  }
 },
 "nbformat": 4,
 "nbformat_minor": 2
}
