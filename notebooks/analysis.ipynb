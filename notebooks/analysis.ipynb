{
 "cells": [
  {
   "cell_type": "code",
   "execution_count": 16,
   "metadata": {},
   "outputs": [],
   "source": [
    "import numpy as np\n",
    "from src.loader import Loader\n",
    "from src.viewer import Viewer\n",
    "from src.preprocessor import Preprocessor, DataType\n",
    "from src.utils import ADMISSION_FEATURES"
   ]
  },
  {
   "cell_type": "code",
   "execution_count": 2,
   "metadata": {},
   "outputs": [],
   "source": [
    "admission = Loader(\"data\").load()\n",
    "viewer = Viewer(admission)"
   ]
  },
  {
   "cell_type": "code",
   "execution_count": 3,
   "metadata": {},
   "outputs": [
    {
     "data": {
      "text/plain": [
       "{'MRD No.': 1,\n",
       " 'HB': 238,\n",
       " 'TLC': 268,\n",
       " 'PLATELETS': 271,\n",
       " 'GLUCOSE': 811,\n",
       " 'UREA': 229,\n",
       " 'CREATININE': 236,\n",
       " 'BNP': 7218,\n",
       " 'EF': 1283,\n",
       " 'CHEST INFECTION': 1,\n",
       " 'DATE OF BROUGHT DEAD': 12158,\n",
       " 'PM10 MAX': 17,\n",
       " 'NO2 MAX': 19,\n",
       " 'OZONE MAX': 28,\n",
       " 'HUMIDITY': 68}"
      ]
     },
     "execution_count": 3,
     "metadata": {},
     "output_type": "execute_result"
    }
   ],
   "source": [
    "viewer.nans_count()"
   ]
  },
  {
   "cell_type": "code",
   "execution_count": 21,
   "metadata": {},
   "outputs": [],
   "source": [
    "features, target = Preprocessor(admission).preprocess(to_drop=[\"BNP\", \"EF\"], data_type=DataType.TORCH)"
   ]
  },
  {
   "cell_type": "code",
   "execution_count": 23,
   "metadata": {},
   "outputs": [
    {
     "name": "stdout",
     "output_type": "stream",
     "text": [
      "tensor([[ 0.,  0.,  0.,  ..., 40., 31., 50.],\n",
      "        [ 0.,  0.,  0.,  ..., 23., 10., 54.],\n",
      "        [ 0.,  0.,  0.,  ..., 40., 27., 24.],\n",
      "        ...,\n",
      "        [ 0.,  0.,  0.,  ..., 41., 30., 12.],\n",
      "        [ 0.,  0.,  0.,  ..., 22., 11., 58.],\n",
      "        [ 0.,  0.,  0.,  ..., 35., 27., 66.]])\n"
     ]
    }
   ],
   "source": [
    "print(features)"
   ]
  },
  {
   "cell_type": "code",
   "execution_count": null,
   "metadata": {},
   "outputs": [],
   "source": []
  },
  {
   "cell_type": "code",
   "execution_count": null,
   "metadata": {},
   "outputs": [],
   "source": []
  },
  {
   "cell_type": "code",
   "execution_count": null,
   "metadata": {},
   "outputs": [],
   "source": []
  }
 ],
 "metadata": {
  "kernelspec": {
   "display_name": ".venv",
   "language": "python",
   "name": "python3"
  },
  "language_info": {
   "codemirror_mode": {
    "name": "ipython",
    "version": 3
   },
   "file_extension": ".py",
   "mimetype": "text/x-python",
   "name": "python",
   "nbconvert_exporter": "python",
   "pygments_lexer": "ipython3",
   "version": "3.12.3"
  }
 },
 "nbformat": 4,
 "nbformat_minor": 2
}
